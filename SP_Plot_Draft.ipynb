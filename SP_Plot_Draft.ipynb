{
 "cells": [
  {
   "cell_type": "code",
   "execution_count": null,
   "metadata": {},
   "outputs": [],
   "source": [
    "from obspy import UTCDateTime\n",
    "from obspy.clients.fdsn import Client as FDSN_Client\n",
    "from obspy import read_inventory\n",
    "import obspy\n",
    "client = FDSN_Client(\"GEONET\")\n",
    "from obspy import UTCDateTime\n",
    "import pandas as pd\n",
    "import matplotlib.pyplot as plt"
   ]
  },
  {
   "cell_type": "code",
   "execution_count": null,
   "metadata": {},
   "outputs": [],
   "source": [
    "cat = client.get_events(starttime = \"2019-09-04\", endtime = \"2019-09-05\")"
   ]
  },
  {
   "cell_type": "code",
   "execution_count": null,
   "metadata": {},
   "outputs": [],
   "source": [
    "sp = []\n",
    "for a in range(len(cat)):\n",
    "    for b in range(len(cat[a].picks)):\n",
    "        if cat[a].picks[b].waveform_id.station_code == 'GLKZ':\n",
    "            if cat[a].picks[b].phase_hint == 'P':\n",
    "                p = cat[a].picks[b].time\n",
    "            if cat[a].picks[b].phase_hint == 'S':\n",
    "                s = cat[a].picks[b].time"
   ]
  },
  {
   "cell_type": "code",
   "execution_count": null,
   "metadata": {},
   "outputs": [],
   "source": [
    "for a in range(len(cat)):\n",
    "    for b in range(len(cat[a].picks)):\n",
    "        if cat[a].picks[b].waveform_id.station_code == 'GLKZ':\n",
    "            data = {\"phase_hint\":cat[a].picks[b].phase_hint, \"time\":cat[a].picks[b].time}"
   ]
  },
  {
   "cell_type": "code",
   "execution_count": null,
   "metadata": {},
   "outputs": [],
   "source": [
    "def sp(cat, sta):\n",
    "    data = pd.DataFrame([])\n",
    "    for a in range(len(cat)):\n",
    "        for b in range(len(cat[a].picks)):\n",
    "            if cat[a].picks[b].waveform_id.station_code == sta:\n",
    "                data = data.append(pd.DataFrame({'time': cat[a].picks[b].time, 'phase': cat[a].picks[b].phase_hint, 'event':cat[a].resource_id}, index=[0]), ignore_index=True)\n",
    "    lst = []\n",
    "    for a in range(len(data)):\n",
    "        try:\n",
    "            if data[\"event\"][a] == data[\"event\"][a+1] and data[\"phase\"][a] == 'P':\n",
    "                lst.append({\"sp\":data[\"time\"][a] - data[\"time\"][a+1],\"time\":data[\"time\"][a]})\n",
    "            elif data[\"event\"][a] == data[\"event\"][a+1] and data[\"phase\"][a] == 'S':     \n",
    "                lst.append({\"sp\":data[\"time\"][a+1] - data[\"time\"][a], \"time\":data[\"time\"][a]})\n",
    "        except:\n",
    "            pass\n",
    "    df = pd.DataFrame(lst)    \n",
    "    plt.scatter(df[\"time\"],df[\"sp\"])\n",
    "    return plt.show()"
   ]
  },
  {
   "cell_type": "code",
   "execution_count": null,
   "metadata": {},
   "outputs": [],
   "source": [
    "sp(cat, \"RATZ\")"
   ]
  }
 ],
 "metadata": {
  "kernelspec": {
   "display_name": "Python 3",
   "language": "python",
   "name": "python3"
  },
  "language_info": {
   "codemirror_mode": {
    "name": "ipython",
    "version": 3
   },
   "file_extension": ".py",
   "mimetype": "text/x-python",
   "name": "python",
   "nbconvert_exporter": "python",
   "pygments_lexer": "ipython3",
   "version": "3.7.6"
  }
 },
 "nbformat": 4,
 "nbformat_minor": 4
}
