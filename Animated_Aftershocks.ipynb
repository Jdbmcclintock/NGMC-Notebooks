{
 "cells": [
  {
   "cell_type": "markdown",
   "metadata": {},
   "source": [
    "# Animated Aftershock Script\n",
    "\n",
    "This is a beta script which will take a geonet quake ID and create an animated figure of the aftershock location, with size dependent on magnitude."
   ]
  },
  {
   "cell_type": "code",
   "execution_count": null,
   "metadata": {},
   "outputs": [],
   "source": [
    "#importing relevant modules\n",
    "import matplotlib.pyplot as plt\n",
    "import matplotlib.animation as animation\n",
    "import numpy as np\n",
    "import pandas as pd\n",
    "from matplotlib.animation import FFMpegWriter\n",
    "from mpl_toolkits.basemap import Basemap\n",
    "import os\n",
    "import requests\n",
    "import dateutil.parser\n",
    "from datetime import timedelta, datetime\n",
    "from obspy import UTCDateTime"
   ]
  },
  {
   "cell_type": "markdown",
   "metadata": {},
   "source": [
    "### User input here \n",
    "Enter the quake ID, length of time in minutes and a file name, then \"run all cells\""
   ]
  },
  {
   "cell_type": "code",
   "execution_count": null,
   "metadata": {},
   "outputs": [],
   "source": [
    "firstquakeid = \"2013p613797\"# user input Geonet public ID \n",
    "length = 30\n",
    "filename = \"Grassmere\""
   ]
  },
  {
   "cell_type": "markdown",
   "metadata": {},
   "source": [
    "Function follows below:"
   ]
  },
  {
   "cell_type": "code",
   "execution_count": null,
   "metadata": {},
   "outputs": [],
   "source": [
    "def aftershock_animation(quakeid, minutes, filename):\n",
    "    \n",
    "    \"\"\"This function takes a Geonet quakeid input and returns an animation.\n",
    "    \n",
    "    Data taken from the Geonet API. Some default parameters: aftershocks defined \n",
    "    as within 50 km of epicentre, map defined by .25 degrees in any direction from \n",
    "    epicentre. Presently designed for rapid maps of aftershocks, for multiple days\n",
    "    would recommend changing framerate and the timelist and stime lists (the 60\n",
    "    represents how many seconds per frame)\"\"\"\n",
    "    \n",
    "    #Queries Geonet API to retreive mainshock's data\n",
    "    quake = requests.get(\"https://api.geonet.org.nz/quake/\"+ firstquakeid).json()\n",
    "    \n",
    "    #Origin time from json file, in datetime object\n",
    "    starttime = dateutil.parser.isoparse(quake['features'][0]['properties']['time'])\n",
    "    endtime = starttime + timedelta(days = 5) #end time, 5 days after, increase if needed\n",
    "    \n",
    "    #strings of times for wfs query\n",
    "    start, end = starttime.strftime('%Y-%m-%dT%H:%M:%S'), endtime.strftime('%Y-%m-%dT%H:%M:%S')\n",
    "    #longitude/latitude for query\n",
    "    lon = quake['features'][0]['geometry']['coordinates'][0]\n",
    "    lat = quake['features'][0]['geometry']['coordinates'][1]\n",
    "    latlon = str(lon) + \"+\" + str(lat)\n",
    "    \n",
    "    #wfs query. For further info see wfs.geonet.org.nz\n",
    "    quakejson = requests.get(\"http://wfs.geonet.org.nz/geonet/ows?service=WFS&version=1.0.0&request=\"\n",
    "                             \"GetFeature&typeName=geonet:quake_search_v1&outputFormat=json&cql_filter=\"\n",
    "                             \"origintime>=\" + start + \"+AND+origintime<=\" + end + \"+AND+DWITHIN\"\n",
    "                             \"(origin_geom,Point+(\" + latlon + \"),50000,meters)\").json()\n",
    "    \n",
    "    lat, lon, mag, time = ([] for i in range(4)) #empty lists for iterating\n",
    "    #Following pulls quake data for plotting\n",
    "    for a in range(len(quakejson['features'])):\n",
    "        lon.append(quakejson['features'][a]['geometry']['coordinates'][0])\n",
    "        lat.append(quakejson['features'][a]['geometry']['coordinates'][1])\n",
    "        mag.append(quakejson['features'][a]['properties']['magnitude'])\n",
    "        time.append(UTCDateTime(quakejson['features'][a]['properties']['origintime']))\n",
    "    #Dataframe of quake info\n",
    "    df = pd.DataFrame({\"lat\":lat, \"lon\":lon, \"time\":time,\"mag\":mag})\n",
    "    #sort dataframe by origin time\n",
    "    df = df.sort_values(by=\"time\")\n",
    "    df = df.dropna()\n",
    "    #Initiate plot\n",
    "    fig, ax = plt.subplots(figsize = (10, 10), dpi = 100)\n",
    "    ax=fig.add_axes([0,0,1,1]) #removing whitespace\n",
    "    #Basemap plot - world topo map can be subbed for preferred map\n",
    "    m = Basemap(projection = \"merc\", llcrnrlon = lon[0] - .35, llcrnrlat =  lat[0] - .35,\n",
    "              urcrnrlon =  lon[0] + .35, urcrnrlat = lat[0] + .35, epsg = 2193, fix_aspect=False)\n",
    "    m.arcgisimage(service = \"World_Topo_Map\", xpixels = 1000, ypixels = 1000, dpi = 1000)\n",
    "    \n",
    "    #timelist creates a timestamp for every minute, up to a defined user limit.\n",
    "    #this is used to create a frame for every minute, showing all quakes prior to said stamp\n",
    "    timelist = [list(df['time'])[0] + 60 * x for x in range(minutes)]\n",
    "    #Strings of above to plot as annotation\n",
    "    stime = [str(x) for x in timelist]\n",
    "    \n",
    "    #Defining initial blank plot to offset to\n",
    "    scat = m.scatter([],[], alpha = 0.6, edgecolor= \"black\", linewidths = 0.6, c= 'crimson')  \n",
    "    \n",
    "    #messy part defining size of legend elements, probably should be loop\n",
    "    l2 = plt.scatter([-1000],[-1000], s = 2**3.2*2, edgecolors='none', c= 'crimson')\n",
    "    l3 = plt.scatter([-1000],[-1000], s = 3**3.2*2, edgecolors='none', c= 'crimson')\n",
    "    l4 = plt.scatter([-1000],[-1000], s = 4**3.2*2, edgecolors='none', c= 'crimson')\n",
    "    l5 = plt.scatter([-1000],[-1000], s = 5**3.2*2, edgecolors='none', c= 'crimson')\n",
    "    l6 = plt.scatter([-1000],[-1000], s = 6**3.2*2, edgecolors='none', c= 'crimson')\n",
    "    l7 = plt.scatter([-1000],[-1000], s = 7**3.2*2, edgecolors='none', c= 'crimson')\n",
    "    l8 = plt.scatter([-1000],[-1000], s = 8**3.2*2, edgecolors='none', c= 'crimson')\n",
    "    #legend labels \n",
    "    labels = [str(x + 1) + \"-\" + str(x + 2) for x in range(7)]\n",
    "    plt.legend([l2,l3,l4,l5,l6,l7, l8], labels, title = \"Magnitude\", loc = 'lower center', \n",
    "               labelspacing = 1, ncol = 7, borderpad = 1.7, columnspacing = 2.3, handletextpad = 1.2)\n",
    "   \n",
    "    #annotations - first one is the timestamp, second one is a count of the earthquakes\n",
    "    annotation = ax.annotate(str(stime[0]), xy=(625, 950), xycoords='axes pixels', \n",
    "                             fontsize=14, c ='black')\n",
    "    annotationcount = ax.annotate(\"Earthquake count: 0\", xy = (20, 950), xycoords='axes pixels', \n",
    "                                  fontsize = 17, c = 'black')\n",
    "    annotation.set_animated(True)\n",
    "    annotationcount.set_animated(True) \n",
    "    ax.set_aspect('auto')\n",
    "    \n",
    "    #\"initial\" blank function, negative values help hide \"initial\" circle\n",
    "    def init():\n",
    "        scat.set_offsets([[],[]])\n",
    "        return scat, annotation, annotationcount\n",
    "    \n",
    "    #animation function - plots all quakes before minute \"a\", including updating the annotations\n",
    "    def update(a):\n",
    "        df2 = df[df['time'] < timelist[a]]\n",
    "        x, y = m(list(df2['lon']), list(df2['lat']))\n",
    "        scat.set_offsets(np.c_[x, y])\n",
    "        scat._sizes=[(int(str(x)[0])+1)**3.2 * 2 for x in list(df2['mag'])]\n",
    "        annotation.set_text(stime[a])\n",
    "        annotationcount.set_text(\"Earthquake count: \" + str(len(df2)))\n",
    "        return scat,\n",
    "    #function to write animation to an mp4, with the defined filename (automatically as an mp4)\n",
    "    ani = animation.FuncAnimation(fig, update, init_func=init, blit=False, frames = len(timelist))\n",
    "    writer = FFMpegWriter(fps=10, bitrate=1800) #change fps if desired\n",
    "    ani.save((filename + \".mp4\"), writer=writer)"
   ]
  },
  {
   "cell_type": "markdown",
   "metadata": {},
   "source": [
    "#### Function called using variables defined above"
   ]
  },
  {
   "cell_type": "code",
   "execution_count": null,
   "metadata": {},
   "outputs": [],
   "source": [
    "aftershock_animation(firstquakeid, length, filename)"
   ]
  }
 ],
 "metadata": {
  "kernelspec": {
   "display_name": "gha",
   "language": "python",
   "name": "gha"
  },
  "language_info": {
   "codemirror_mode": {
    "name": "ipython",
    "version": 3
   },
   "file_extension": ".py",
   "mimetype": "text/x-python",
   "name": "python",
   "nbconvert_exporter": "python",
   "pygments_lexer": "ipython3",
   "version": "3.7.6"
  }
 },
 "nbformat": 4,
 "nbformat_minor": 4
}
