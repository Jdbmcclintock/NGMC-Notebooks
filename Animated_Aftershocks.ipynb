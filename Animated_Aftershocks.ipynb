{
 "cells": [
  {
   "cell_type": "code",
   "execution_count": null,
   "metadata": {},
   "outputs": [],
   "source": [
    "#importing relevant modules\n",
    "import matplotlib.pyplot as plt\n",
    "import matplotlib.animation as animation\n",
    "import numpy as np\n",
    "import pandas as pd\n",
    "from matplotlib.animation import FFMpegWriter\n",
    "from mpl_toolkits.basemap import Basemap\n",
    "import os\n",
    "import requests\n",
    "import dateutil.parser\n",
    "from datetime import timedelta, datetime\n",
    "from obspy import UTCDateTime"
   ]
  },
  {
   "cell_type": "code",
   "execution_count": null,
   "metadata": {},
   "outputs": [],
   "source": [
    "firstquakeid = \"2019p738432\" # user input Geonet public ID "
   ]
  },
  {
   "cell_type": "code",
   "execution_count": null,
   "metadata": {},
   "outputs": [],
   "source": [
    "#Queries Geonet API to retreive mainshock's data\n",
    "quake = requests.get(\"https://api.geonet.org.nz/quake/\"+ firstquakeid).json()\n",
    "#Origin time from json file, in datetime object\n",
    "starttime = dateutil.parser.isoparse(quake['features'][0]['properties']['time'])\n",
    "endtime = starttime + timedelta(days = 1) #end time, one day after\n",
    "\n",
    "start, end = starttime.strftime('%Y-%m-%dT%H:%M:%S'), endtime.strftime('%Y-%m-%dT%H:%M:%S')\n",
    "lon, lat = quake['features'][0]['geometry']['coordinates'][0], quake['features'][0]['geometry']['coordinates'][1]\n",
    "latlon = str(lon) + \"+\" + str(lat)"
   ]
  },
  {
   "cell_type": "code",
   "execution_count": null,
   "metadata": {},
   "outputs": [],
   "source": [
    "quakejson = requests.get(\n",
    "        \"http://wfs.geonet.org.nz/geonet/ows?service=WFS&version=1.0.0&request=GetFeature&typeName=geonet:quake_search_v1&outputFormat=json&cql_filter=origintime>=\" \n",
    "        + start + \"+AND+origintime<=\" + end + \"+AND+DWITHIN(origin_geom,Point+(\" + latlon + \"),50000,meters)\").json()"
   ]
  },
  {
   "cell_type": "code",
   "execution_count": null,
   "metadata": {},
   "outputs": [],
   "source": [
    "quakejson['features'][0]\n",
    "lat, lon, mag, time = ([] for i in range(4))\n",
    "for a in range(len(quakejson['features'])):\n",
    "    lon.append(quakejson['features'][a]['geometry']['coordinates'][0])\n",
    "    lat.append(quakejson['features'][a]['geometry']['coordinates'][1])\n",
    "    mag.append(quakejson['features'][a]['properties']['magnitude'])\n",
    "    time.append(UTCDateTime(quakejson['features'][a]['properties']['origintime']))\n",
    "df = pd.DataFrame({\"lat\":lat, \"lon\":lon, \"time\":time,\"mag\":mag})\n",
    "df = df.sort_values(by=\"time\")"
   ]
  },
  {
   "cell_type": "code",
   "execution_count": null,
   "metadata": {},
   "outputs": [],
   "source": [
    "fig, ax = plt.subplots(figsize = (10, 10), dpi = 100)\n",
    "ax=fig.add_axes([0,0,1,1])\n",
    "m = Basemap(projection = \"merc\", llcrnrlon = lon[0] - .25, llcrnrlat =  lat[0] - .25,\n",
    "              urcrnrlon =  lon[0] + .25, urcrnrlat = lat[0] + .25, epsg = 2193, fix_aspect=False)\n",
    "m.arcgisimage(service = \"World_Topo_Map\", xpixels = 1000, ypixels = 1000, dpi = 1000)\n",
    "timelist = [list(df['time'])[0] + 60 * x for x in range(30)]\n",
    "stime = [str(UTCDateTime(start)+ 60 * i) for i in list(range(len(timelist)))]\n",
    "roundmag = [(int(str(x)[0])+1)**3 * 2 for x in mag]\n",
    "scat= m.scatter([],[], alpha = 0.6, edgecolor= \"black\", linewidths = 0.6, c= 'crimson')  \n",
    "l2 = plt.scatter([],[], s = 2**3.2*2, edgecolors='none', c= 'crimson')\n",
    "l3 = plt.scatter([],[], s = 3**3.2*2, edgecolors='none', c= 'crimson')\n",
    "l4 = plt.scatter([],[], s = 4**3.2*2, edgecolors='none', c= 'crimson')\n",
    "l5 = plt.scatter([],[], s = 5**3.2*2, edgecolors='none', c= 'crimson')\n",
    "l6 = plt.scatter([],[], s = 6**3.2*2, edgecolors='none', c= 'crimson')\n",
    "l7 = plt.scatter([],[], s = 7**3.2*2, edgecolors='none', c= 'crimson')\n",
    "l8 = plt.scatter([],[], s = 8**3.2*2, edgecolors='none', c= 'crimson')\n",
    "labels = [str(x + 1) for x in range(7)]\n",
    "annotation = ax.annotate(str(stime[0]), xy=(625, 950), xycoords='axes pixels',  fontsize=14, c ='black')\n",
    "annotationcount = ax.annotate(\"Earthquake count: 0\", xy = (20, 950), xycoords='axes pixels', fontsize = 17, c = 'black')\n",
    "annotation.set_animated(True)\n",
    "annotationcount.set_animated(True)\n",
    "ax.set_aspect('auto')\n",
    "plt.legend([l2,l3,l4,l5,l6,l7, l8], labels, title = \"Magnitude\", loc = 'lower center', labelspacing = 1, ncol = 7, borderpad = 1.7,\n",
    "          columnspacing = 2.3, handletextpad = 1.2)\n",
    "def init():\n",
    "    scat.set_offsets(np.c_[-1000,-1000])\n",
    "    return scat, annotation, annotationcount\n",
    "def update(a):\n",
    "    df2 = df[df['time'] < timelist[a]]\n",
    "    x, y = m(list(df2['lon']), list(df2['lat']))\n",
    "    scat.set_offsets(np.c_[x, y])\n",
    "    scat._sizes=[(int(str(x)[0])+1)**3.2 * 2 for x in list(df2['mag'])]\n",
    "    annotation.set_text(stime[a])\n",
    "    annotationcount.set_text(\"Earthquake count: \" + str(len(df2)))\n",
    "    return scat,\n",
    "ani = animation.FuncAnimation(fig, update, init_func=init, blit=False, frames = len(timelist))\n",
    "writer = FFMpegWriter(fps=10, bitrate=1800)\n",
    "ani.save((firstquakeid + \".mp4\"), writer=writer)"
   ]
  }
 ],
 "metadata": {
  "kernelspec": {
   "display_name": "gha",
   "language": "python",
   "name": "gha"
  },
  "language_info": {
   "codemirror_mode": {
    "name": "ipython",
    "version": 3
   },
   "file_extension": ".py",
   "mimetype": "text/x-python",
   "name": "python",
   "nbconvert_exporter": "python",
   "pygments_lexer": "ipython3",
   "version": "3.7.6"
  }
 },
 "nbformat": 4,
 "nbformat_minor": 4
}
