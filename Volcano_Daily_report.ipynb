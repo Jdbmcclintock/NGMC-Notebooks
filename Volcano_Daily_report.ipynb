{
 "cells": [
  {
   "cell_type": "markdown",
   "metadata": {},
   "source": [
    "This is a work in progress, please don't use this yet! - James\n",
    "\n",
    "Alternate way of running this could be to have a function for a generic volcano then run it for each volcano?"
   ]
  },
  {
   "cell_type": "code",
   "execution_count": null,
   "metadata": {},
   "outputs": [],
   "source": [
    "#import relevant modules\n",
    "import obspy\n",
    "from obspy import UTCDateTime\n",
    "from obspy.clients.fdsn import Client\n",
    "from obspy import read_inventory\n",
    "client = Client(\"GEONET\") #will need to be nrt-client link when live - this is for testing\n",
    "import pandas as pd\n",
    "import matplotlib.pyplot as plt\n",
    "import matplotlib.dates as md\n",
    "from mpl_toolkits.basemap import Basemap"
   ]
  },
  {
   "cell_type": "code",
   "metadata": {},
   "source": [
    "## allows user input for the date - should make this a \"now\" thing rather than requiring it! Could probably configure it to work out when it's Monday to automatically run the weekly test\n",
    "date_text = input(\"Enter a date (yyyy-mm-dd): \")"
   ]
  },
  {
   "cell_type": "code",
   "execution_count": null,
   "metadata": {},
   "outputs": [],
   "source": [
    "# converting date to UTCDateTime format - If using a NZT date the 18:00:00 bit should change as that's converting a UTC day into 6 am-6 am nzt the next day. \n",
    "starttime = date_text + \" 18:00:00\" "
   ]
  },
  {
   "cell_type": "code",
   "execution_count": null,
   "metadata": {},
   "outputs": [],
   "source": [
    "#list of volcanoes\n",
    "volcano_list = [\"Auckland\", \"Kermadec Islands\", \"Mayor Island\", \"Ngauruhoe\", \"Northland\", \"Okataina\", \"Rotorua\", \"Ruapehu\", \"Taranaki\", \"Taupo\", \"Tongariro\", \"White Island\"]\n",
    "#Lat/long boundaries of said volcanic areas. Must retain current order or will not work - first values correspond to Auckland, second to Kermies etc. \n",
    "min_lat = [-37.17, -32.9, -37.53, -39.21, -36.03, -38.34, -38.20, -39.5, -39.67, -39.08, -39.21, -38]\n",
    "max_lat = [-36.57, -24.0, -37.04, -39.08, -34.89, -37.95, -37.98, -39.18,-38.93, -38.5, -39.08,-37.34]\n",
    "min_lon = [174.45, 179.5, 175.87, 175.56, 173.38, 176.32, 176.12, 175.32, 173.60, 175.56, 175.56, 176.69 ]\n",
    "max_lon = [175.27, -175.8, 176.64, 175.72, 174.75, 176.81, 176.42, 175.77, 174.49, 176.24, 175.72, 177.40]\n",
    "#Dataframe not currently used but keeping in case\n",
    "volc_df = pd.DataFrame({\"volcano_name\":volcano_list, \"min_lat\":min_lat, \"max_lat\":max_lat, \"min_lon\":min_lon, \"max_lon\":max_lon})"
   ]
  },
  {
   "cell_type": "code",
   "execution_count": null,
   "metadata": {},
   "outputs": [],
   "source": [
    "def magtime(catalog, volc):\n",
    "    lat, lon, mag = ([] for i in range(3))\n",
    "    for a in range(len(catalog)):\n",
    "        mag.append(catalog[a].preferred_magnitude().mag)\n",
    "        for b in range(len(catalog[a].origins)):\n",
    "            origtime.append(catalog[a].origins[b].time)\n",
    "            depth.append(catalog[a].origins[b].depth)\n",
    "    data_df = pd.DataFrame({\"time\":origtime, \"magnitude\":mag})\n",
    "    dstr = [str(d) for d in origtime]\n",
    "    pddates = [pd.to_datetime(d) for d in dstr]\n",
    "    matdates = md.date2num(pddates)\n",
    "    fig, ax = plt.subplots(2, 1,figsize=(10,10))\n",
    "    hours = md.HourLocator(interval = 2)\n",
    "    h_fmt = md.DateFormatter('%H:%M:%S')\n",
    "    ax[0].plot_date(matdates, mag, c = 'r', marker = 'D', ms = 5, mew = 1, mec = 'black')\n",
    "    plt.xticks(rotation=70)\n",
    "    ax[0].grid(True)\n",
    "    ax[0].set_ylim(ymin=1,ymax = 6)\n",
    "    ax[0].xaxis.set_major_locator(hours)\n",
    "    ax[0].xaxis.set_major_formatter(h_fmt)\n",
    "    ax[0].set_ylabel(\"Magnitude\")\n",
    "    fig.autofmt_xdate()\n",
    "    ax[1].plot_date(matdates, depth, c = 'b', marker = 'D', ms = 5, mew = 1, mec = 'black')\n",
    "    plt.xticks(rotation=70)\n",
    "    plt.grid(True)\n",
    "    ax[1].set_ylim()\n",
    "    ax[1].grid(True)\n",
    "    ax[1].xaxis.set_major_locator(hours)\n",
    "    ax[1].xaxis.set_major_formatter(h_fmt)\n",
    "    ax[1].set_ylabel(\"Depth\")\n",
    "    plt.gca().invert_yaxis()\n",
    "    fig.autofmt_xdate()\n",
    "    plt.suptitle(\"Magnitude and depth versus time: \" + volc,  fontsize = 16)\n",
    "    plt.xlabel(\"Day starting \" + date_text + \" UTC\") # would love to fix this to be NZT\n",
    "    return plt.show()"
   ]
  },
  {
   "cell_type": "code",
   "execution_count": null,
   "metadata": {},
   "outputs": [],
   "source": [
    "def latlon(catalog):\n",
    "    lat, lon, mag = ([] for i in range(3))\n",
    "    for a in range(len(catalog)):\n",
    "        for b in range(len(catalog[a].origins)):\n",
    "            lat.append(catalog[a].origins[b].latitude)\n",
    "            lon.append(catalog[a].origins[b].longitude)\n",
    "            mag.append(catalog[a].preferred_magnitude().mag)\n",
    "    magr = [int(str(x)[0])**2 * 5 for x in mag]\n",
    "    meanlon = sum(lon) / len(lon)\n",
    "    meanlat = sum(lat) / len(lat)\n",
    "    fig, ax = plt.subplots(figsize = (10,10)) \n",
    "    map = Basemap(projection = 'merc', llcrnrlon = meanlon - .2, llcrnrlat = meanlat - .2 , urcrnrlon = meanlon + .2, urcrnrlat = meanlat + .2, epsg = 2193)\n",
    "    map.arcgisimage(service = \"World_Topo_Map\", xpixels = 1000) #closes to Geonet background map\n",
    "    x, y = map(lon, lat)\n",
    "    scatter = ax.scatter(x,y, s = magr * 10, marker = 'o', c = 'r', edgecolors = 'black', linewidths = 0.3, alpha = 0.5)\n",
    "    plt.title(\"map\")\n",
    "    return plt.show()"
   ]
  },
  {
   "cell_type": "code",
   "execution_count": null,
   "metadata": {},
   "outputs": [],
   "source": [
    "volc_copy = [] #needs better descriptive name. Empty list for appending.\n",
    "#For loop running a obspy \"get events\" function to pull every even within each of the lat/long boxes, storing them as tuples of volcano + events within a larger list\n",
    "for a in range(len(volcano_list)):\n",
    "    try:\n",
    "        volc_copy.append((volcano_list[a],client.get_events(starttime=UTCDateTime(starttime), endtime=UTCDateTime(starttime)+86400, minlatitude = min_lat[a], maxlatitude = max_lat[a], minlongitude = min_lon[a], maxlongitude = max_lon[a], maxdepth = 30)))\n",
    "    except:\n",
    "        print(volcano_list[a] + \" No earthquakes found\") #if no quakes are found this will print instead\n",
    "anymag = [x for x in volc_copy if len(x[1]) > 10] #determining if there are more than 10 events within the specified time period.\n",
    "nm = [] #needs better name\n",
    "\n",
    "twoplus = []\n",
    "#Below is same as the previous function but with the \"minmagnitude\" parameter set to 2, to restrict to only quakes larger than this.\n",
    "for a in range(len(volcano_list)):\n",
    "    try:\n",
    "        twoplus.append((volcano_list[a],client.get_events(starttime=UTCDateTime(starttime), endtime=UTCDateTime(starttime)+86400, minlatitude = min_lat[a], maxlatitude = max_lat[a], minlongitude = min_lon[a], maxlongitude = max_lon[a], maxdepth = 30, minmagnitude = 2)))\n",
    "    except:\n",
    "        pass\n",
    "twomag = [x for x in twoplus if len(x[1]) > 3]\n",
    "for x in range(len(anymag)):\n",
    "    print(\"The following volcanoes had more than 10 EQs in past 24 h: \" + anymag[x][0] + \". Count: \" + str(len(anymag[x][1]))) #delete\n",
    "for x in range(len(twomag)):\n",
    "    print(\"The following volcanoes had more than 3 M2+ EQs in past 24 h: \" + twomag[x][0] + \". Count: \" + str(len(twomag[x][1]))) #prints all M 2 + earthquakes. \n",
    "print(\"\\n\")\n",
    "for a in range(len(anymag)):\n",
    "    magtime(anymag[a][1], anymag[a][0])\n",
    "for a in range(len(anymag)):\n",
    "    latlon(anymag[a][1])"
   ]
  },
  {
   "cell_type": "code",
   "execution_count": null,
   "metadata": {},
   "outputs": [],
   "source": []
  }
 ],
 "metadata": {
  "kernelspec": {
   "display_name": "ngmc",
   "language": "python",
   "name": "ngmc"
  },
  "language_info": {
   "codemirror_mode": {
    "name": "ipython",
    "version": 3
   },
   "file_extension": ".py",
   "mimetype": "text/x-python",
   "name": "python",
   "nbconvert_exporter": "python",
   "pygments_lexer": "ipython3",
   "version": "3.6.7"
  }
 },
 "nbformat": 4,
 "nbformat_minor": 4
}
