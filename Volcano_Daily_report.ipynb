{
 "cells": [
  {
   "cell_type": "markdown",
   "metadata": {},
   "source": [
    "# **Volcano Daily Report - Automatic Script**\n",
    "\n",
    "#### **A script to automatically query whether volcanoes meet the thresholds for \"swarm\" activity, and produce data products accordingly**\n",
    "\n",
    "This is a work in progress, please don't use this yet! - For any questions please contact James\n",
    "\n",
    "Alternate way of running this could be to have a function for a generic volcano then run it for each volcano?"
   ]
  },
  {
   "cell_type": "code",
   "execution_count": null,
   "metadata": {},
   "outputs": [],
   "source": [
    "#import relevant modules\n",
    "import obspy\n",
    "from obspy import UTCDateTime\n",
    "from obspy.clients.fdsn import Client\n",
    "from obspy import read_inventory\n",
    "client = Client(\"GEONET\") #will need to be nrt-client link when live - this is for testing\n",
    "import pandas as pd\n",
    "import matplotlib.pyplot as plt\n",
    "import matplotlib.dates as md\n",
    "from matplotlib.ticker import (MultipleLocator, FormatStrFormatter,\n",
    "                               AutoMinorLocator)\n",
    "from mpl_toolkits.basemap import Basemap"
   ]
  },
  {
   "cell_type": "markdown",
   "metadata": {},
   "source": [
    "This following section contains a \"input\" function. We shouldn't need this when it's live as we can use Datetime's \"now\" function, and set the starttime to -86400 for 24h ago."
   ]
  },
  {
   "cell_type": "code",
   "execution_count": null,
   "metadata": {},
   "outputs": [],
   "source": [
    "## allows user input for the date - should make this a \"now\" thing rather than requiring it! Could probably configure it to work out when it's Monday to automatically run the weekly test\n",
    "date_text = input(\"Enter a date (yyyy-mm-dd): \") #will be UTCDateTime.now() or whatever it is"
   ]
  },
  {
   "cell_type": "markdown",
   "metadata": {},
   "source": [
    "Volcano information section. Edit the equivalent numbers if the definitions of boxes change. Kermadec isles need s a fix I think. Obspy doesn't like negative and ositive longitude"
   ]
  },
  {
   "cell_type": "code",
   "execution_count": null,
   "metadata": {},
   "outputs": [],
   "source": [
    "starttime = date_text  # converting date to UTCDateTime format - If using a NZT date the 18:00:00 bit should change as that's converting a UTC day into 6 am-6 am nzt the next day. \n",
    "#list of volcanoes\n",
    "volcano_list = [\"Auckland\", \"Kermadec Islands\", \"Mayor Island\", \"Ngauruhoe\", \"Northland\", \"Okataina\", \"Rotorua\", \"Ruapehu\", \"Taranaki\", \"Taupo\", \"Tongariro\", \"White Island\"]\n",
    "#Lat/long boundaries of said volcanic areas. Must retain current order or will not work - first values correspond to Auckland, second to Kermies etc. \n",
    "min_lat = [-37.17, -32.9, -37.53, -39.21, -36.03, -38.34, -38.20, -39.5, -39.67, -39.08, -39.21, -38]\n",
    "max_lat = [-36.57, -24.0, -37.04, -39.08, -34.89, -37.95, -37.98, -39.18,-38.93, -38.5, -39.08,-37.34]\n",
    "min_lon = [174.45, -180, 175.87, 175.56, 173.38, 176.32, 176.12, 175.32, 173.60, 175.56, 175.56, 176.69 ]\n",
    "max_lon = [175.27, -175.8, 176.64, 175.72, 174.75, 176.81, 176.42, 175.77, 174.49, 176.24, 175.72, 177.40]\n",
    "stations = [\"MKAZ\", \"GLKZ\", \"MYRZ\", \"OTVZ\", \"OUZ\", \"TARZ\", \"UTU\", \"FWVZ\", \"KHEZ\", \"RATZ\", \"TMVZ\", \"WIZ\" ]\n",
    "#Dataframe not currently used but keeping in case\n",
    "volc_df = pd.DataFrame({\"volcano_name\":volcano_list, \"min_lat\":min_lat, \"max_lat\":max_lat, \"min_lon\":min_lon, \"max_lon\":max_lon})"
   ]
  },
  {
   "cell_type": "markdown",
   "metadata": {},
   "source": [
    "Functions for graphs follow - much more efficient to define these here than below. I suspect as we get better at writing functions I can make this prettier - perhaps run the ax[0] vs ax[1] bits as a for loop? "
   ]
  },
  {
   "cell_type": "code",
   "execution_count": null,
   "metadata": {},
   "outputs": [],
   "source": [
    "def magtime(catalog, volc):\n",
    "    mag, origtime, depth = ([] for i in range(3))\n",
    "    for a in range(len(catalog)):\n",
    "        mag.append(catalog[a].preferred_magnitude().mag)\n",
    "        for b in range(len(catalog[a].origins)):\n",
    "            origtime.append(catalog[a].origins[b].time)\n",
    "            depth.append(catalog[a].origins[b].depth)\n",
    "    data_df = pd.DataFrame({\"time\":origtime, \"magnitude\":mag})\n",
    "    dstr = [str(d) for d in origtime]\n",
    "    pddates = [pd.to_datetime(d) for d in dstr]\n",
    "    matdates = md.date2num(pddates)\n",
    "    fig, ax = plt.subplots(2, 1,figsize=(10,10))\n",
    "    hours = md.HourLocator(interval = 2)\n",
    "    h_fmt = md.DateFormatter('%H:%M:%S')\n",
    "    ax[0].plot_date(matdates, mag, c = 'r', marker = 'D', ms = 5, mew = 1, mec = 'black')\n",
    "    plt.xticks(rotation=70)\n",
    "    ax[0].grid(True)\n",
    "    ax[0].set_ylim(ymin=1,ymax = 6)\n",
    "    ax[0].xaxis.set_major_locator(hours)\n",
    "    ax[0].xaxis.set_major_formatter(h_fmt)\n",
    "    ax[0].set_ylabel(\"Magnitude\")\n",
    "    fig.autofmt_xdate()\n",
    "    ax[1].plot_date(matdates, depth, c = 'b', marker = 'D', ms = 5, mew = 1, mec = 'black')\n",
    "    plt.xticks(rotation=70)\n",
    "    plt.grid(True)\n",
    "    ax[1].set_ylim()\n",
    "    ax[1].grid(True)\n",
    "    ax[1].xaxis.set_major_locator(hours)\n",
    "    ax[1].xaxis.set_major_formatter(h_fmt)\n",
    "    ax[1].set_ylabel(\"Depth\")\n",
    "    plt.gca().invert_yaxis()\n",
    "    fig.autofmt_xdate()\n",
    "    plt.suptitle(\"Magnitude and depth versus time: \" + volc,  fontsize = 16)\n",
    "    plt.xlabel(\"Day starting \" + date_text + \" UTC\") # would love to fix this to be NZT\n",
    "    return plt.show()"
   ]
  },
  {
   "cell_type": "code",
   "execution_count": null,
   "metadata": {},
   "outputs": [],
   "source": [
    "def latlon(catalog):\n",
    "    lat, lon, mag = ([] for i in range(3))\n",
    "    for a in range(len(catalog)):\n",
    "        for b in range(len(catalog[a].origins)):\n",
    "            lat.append(catalog[a].origins[b].latitude)\n",
    "            lon.append(catalog[a].origins[b].longitude)\n",
    "            mag.append(catalog[a].preferred_magnitude().mag)\n",
    "    magr = [int(str(x)[0])**2 * 8 for x in mag]\n",
    "    for a in range(len(anymag)):\n",
    "        coords = volc_df.loc[volc_df['volcano_name'] == anymag[a][0]]\n",
    "    fig, ax = plt.subplots(figsize = (13,13)) \n",
    "    map = Basemap(projection = 'merc', llcrnrlon = coords['min_lon'], llcrnrlat =  coords['min_lat'] , urcrnrlon =  coords['max_lon'], urcrnrlat =  coords['max_lat'], epsg = 2193)\n",
    "    map.arcgisimage(service = \"World_Topo_Map\", xpixels = 1000) #closes to Geonet background map\n",
    "    x, y = map(lon, lat)\n",
    "    scatter = ax.scatter(x,y, s = magr * 10, marker = 'o', c = 'r', edgecolors = 'black', linewidths = 0.3, alpha = 0.5)\n",
    "    plt.title(\"map\")\n",
    "    return plt.show()"
   ]
  },
  {
   "cell_type": "code",
   "execution_count": null,
   "metadata": {},
   "outputs": [],
   "source": [
    "def sp(cat):\n",
    "    data = pd.DataFrame([])\n",
    "    for a in range(len(cat)):\n",
    "        for b in range(len(cat[a].picks)):\n",
    "            if cat[a].picks[b].waveform_id.station_code == \"WIZ\":\n",
    "                data = data.append(pd.DataFrame({'time': cat[a].picks[b].time, 'phase': cat[a].picks[b].phase_hint, 'event':cat[a].resource_id}, index=[0]), ignore_index=True)\n",
    "    lst = []\n",
    "    for a in range(len(data)):\n",
    "        try:\n",
    "            if data[\"event\"][a] == data[\"event\"][a+1] and data[\"phase\"][a] == 'P':\n",
    "                lst.append({\"sp\":data[\"time\"][a+1] - data[\"time\"][a] ,\"time\":data[\"time\"][a]})\n",
    "            elif data[\"event\"][a] == data[\"event\"][a+1] and data[\"phase\"][a] == 'S':     \n",
    "                lst.append({\"sp\":data[\"time\"][a] - data[\"time\"][a+1], \"time\":data[\"time\"][a]})\n",
    "        except:\n",
    "            pass   \n",
    "    df = pd.DataFrame(lst)\n",
    "    dstr = [str(d) for d in df[\"time\"]]\n",
    "    pddates = [pd.to_datetime(d) for d in dstr]\n",
    "    matdates = md.date2num(pddates)\n",
    "    hours = md.HourLocator(interval = 2)\n",
    "    h_fmt = md.DateFormatter('%H:%M:%S')\n",
    "    fig, ax = plt.subplots(figsize = (15,8))\n",
    "    ax.plot_date(matdates,  df[\"sp\"], c = 'r', marker = 'D', ms = 5, mew = 1, mec = 'black')\n",
    "    plt.xticks(rotation=70)\n",
    "    ax.grid(True)\n",
    "    ax.xaxis.set_major_locator(hours)\n",
    "    ax.xaxis.set_major_formatter(h_fmt)\n",
    "    ax.set_ylabel(\"S-P Time\")\n",
    "    ax.set_xlabel(\"time: 2019-04-04\")\n",
    "    plt.title(\"S-P plot: White Island\")\n",
    "    return plt.show()"
   ]
  },
  {
   "cell_type": "markdown",
   "metadata": {},
   "source": [
    "This box runs the rest of the code - running Obspy Catalog pulls to \"get_events\" for each lat/long box. Returns \"No Earthquakes Found\" if it fails to find any that fit the criteria. Might remove that in following iterations, or instead make it print out it even if only one is found."
   ]
  },
  {
   "cell_type": "code",
   "execution_count": null,
   "metadata": {},
   "outputs": [],
   "source": [
    "volc_copy = [] #needs better descriptive name. Empty list for appending.\n",
    "#For loop running a obspy \"get events\" function to pull every even within each of the lat/long boxes, storing them as tuples of volcano + events within a larger list\n",
    "for a in range(len(volcano_list)):\n",
    "    try:\n",
    "        volc_copy.append((volcano_list[a],client.get_events(starttime=UTCDateTime(starttime), endtime=UTCDateTime(starttime)+86400, minlatitude = min_lat[a], maxlatitude = max_lat[a], minlongitude = min_lon[a], maxlongitude = max_lon[a], maxdepth = 30)))\n",
    "    except:\n",
    "        print(volcano_list[a] + \" No earthquakes found\") #if no quakes are found this will print instead\n",
    "print(\"\\n\") # new line for good formatting.\n",
    "for volc in range(len(volc_copy)):\n",
    "    if len(volc_copy[volc][1]) > 0:\n",
    "        print(volc_copy[volc][0] +\": \" + str(len(volc_copy[volc][1])) + \" Earthquake(s) in past 24h\")\n",
    "anymag = [x for x in volc_copy if len(x[1]) > 10] #determining if there are more than 10 events within the specified time period.\n",
    "nm = [] #needs better name\n",
    "\n",
    "twoplus = []\n",
    "#Below is same as the previous function but with the \"minmagnitude\" parameter set to 2, to restrict to only quakes larger than this.\n",
    "for a in range(len(volcano_list)):\n",
    "    try:\n",
    "        twoplus.append((volcano_list[a],client.get_events(starttime=UTCDateTime(starttime), endtime=UTCDateTime(starttime)+86400, minlatitude = min_lat[a], maxlatitude = max_lat[a], minlongitude = min_lon[a], maxlongitude = max_lon[a], maxdepth = 30, minmagnitude = 2)))\n",
    "    except:\n",
    "        pass #no point pushing out another list of everything that has no quakes.\n",
    "twomag = [x for x in twoplus if len(x[1]) > 3]\n",
    "#Main outputs below - to keep them all popping out in the same place\n",
    "print(\"\\n\") # new line for good formatting.\n",
    "for x in range(len(anymag)):\n",
    "    print(\"The following volcanoes had more than 10 EQs in past 24 h: \" + anymag[x][0] + \". Count: \" + str(len(anymag[x][1]))) #delete\n",
    "for x in range(len(twomag)):\n",
    "    print(\"The following volcanoes had more than 3 M2+ EQs in past 24 h: \" + twomag[x][0] + \". Count: \" + str(len(twomag[x][1]))) #prints all M 2 + earthquakes. \n",
    "print(\"\\n\")\n",
    "#Calling functions to create graphs. The for loops allow multiple graphs/maps to be created if multiple areas experience swarms on the same day.\n",
    "for a in range(len(anymag)):\n",
    "    magtime(anymag[a][1], anymag[a][0])\n",
    "for a in range(len(anymag)):\n",
    "    latlon(anymag[a][1])\n",
    "for a in range(len(anymag)):\n",
    "    if anymag[a][0] == \"White Island\":\n",
    "        sp(anymag[a][1])"
   ]
  },
  {
   "cell_type": "code",
   "execution_count": null,
   "metadata": {},
   "outputs": [],
   "source": [
    "volc_copy[0][1]"
   ]
  },
  {
   "cell_type": "code",
   "execution_count": null,
   "metadata": {},
   "outputs": [],
   "source": [
    "print(volcano_list[a] +\": \" + str(len(volc_copy[0][1])) + \"Earthquake(s) in past 24h\")"
   ]
  },
  {
   "cell_type": "code",
   "execution_count": null,
   "metadata": {},
   "outputs": [],
   "source": [
    "cat = client.get_events(starttime=UTCDateTime(starttime), endtime=UTCDateTime(starttime)+86400, minlatitude = -33, maxlatitude = -24, minlongitude = -180, maxlongitude = -175, maxdepth = 34)"
   ]
  },
  {
   "cell_type": "code",
   "execution_count": null,
   "metadata": {},
   "outputs": [],
   "source": [
    "cat"
   ]
  },
  {
   "cell_type": "code",
   "execution_count": null,
   "metadata": {},
   "outputs": [],
   "source": []
  }
 ],
 "metadata": {
  "kernelspec": {
   "display_name": "ngmc",
   "language": "python",
   "name": "ngmc"
  },
  "language_info": {
   "codemirror_mode": {
    "name": "ipython",
    "version": 3
   },
   "file_extension": ".py",
   "mimetype": "text/x-python",
   "name": "python",
   "nbconvert_exporter": "python",
   "pygments_lexer": "ipython3",
   "version": "3.6.7"
  }
 },
 "nbformat": 4,
 "nbformat_minor": 4
}
