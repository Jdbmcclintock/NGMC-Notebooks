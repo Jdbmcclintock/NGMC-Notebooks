{
 "cells": [
  {
   "cell_type": "code",
   "execution_count": 1,
   "metadata": {},
   "outputs": [],
   "source": [
    "from obspy import UTCDateTime\n",
    "from obspy.clients.fdsn import Client\n",
    "from obspy import read_inventory\n",
    "client = Client(\"GEONET\")\n",
    "import pandas as pd"
   ]
  },
  {
   "cell_type": "code",
   "execution_count": 2,
   "metadata": {},
   "outputs": [
    {
     "name": "stdin",
     "output_type": "stream",
     "text": [
      "Enter a date (yyyy-mm-dd):  2019-06-25\n"
     ]
    }
   ],
   "source": [
    "date_text = input(\"Enter a date (yyyy-mm-dd): \")"
   ]
  },
  {
   "cell_type": "code",
   "execution_count": 3,
   "metadata": {},
   "outputs": [],
   "source": [
    "starttime = date_text + \" 18:00:00\"\n",
    "cat = client.get_events(starttime=UTCDateTime(starttime), endtime=UTCDateTime(starttime)+86400)"
   ]
  },
  {
   "cell_type": "code",
   "execution_count": 50,
   "metadata": {},
   "outputs": [],
   "source": [
    "volcano_list = [\"Auckland\", \"Kermadec Islands\", \"Mayor Island\", \"Ngauruhoe\", \"Northland\", \"Okataina\", \"Rotorua\", \"Ruapehu\", \"Taranaki\", \"Taupo\", \"Tongariro\", \"White Island\"]\n",
    "volc_name = volcano_list\n",
    "min_lat = [-37.17, -32.9, -37.53, -39.21, -36.03, -38.34, -38.20, -39.5, -39.67, -39.08, -39.21, -38]\n",
    "max_lat = [-36.57, -24.0, -37.04, -39.08, -34.89, -37.95, -37.98, -39.18,-38.93, -38.5, -39.08,-37.34]\n",
    "min_lon = [174.45, -174.45, 175.87, 175.56, 173.38, 176.32, 176.12, 175.32, 173.60, 175.56, 175.56, 176.69 ]\n",
    "max_lon = [175.27, -175.8, 176.64, 175.72, 174.75, 176.81, 176.42, 175.77, 174.49, 176.24, 175.72, 177.40]\n",
    "volc_df = pd.DataFrame({\"volcano_name\":volcano_list, \"min_lat\":min_lat, \"max_lat\":max_lat, \"min_lon\":min_lon, \"max_lon\":max_lon})"
   ]
  },
  {
   "cell_type": "code",
   "execution_count": 58,
   "metadata": {},
   "outputs": [
    {
     "name": "stdout",
     "output_type": "stream",
     "text": [
      "Kermadec Islands No earthquakes found\n",
      "Mayor Island No earthquakes found\n",
      "Ngauruhoe No earthquakes found\n",
      "Northland No earthquakes found\n",
      "Okataina No earthquakes found\n",
      "Taranaki No earthquakes found\n",
      "Tongariro No earthquakes found\n"
     ]
    }
   ],
   "source": [
    "for a in range(len(volcano_list)):\n",
    "    try:\n",
    "        volcano_list[a] = (volc_name[a],client.get_events(starttime=UTCDateTime(starttime), endtime=UTCDateTime(starttime)+86400, minlatitude = min_lat[a], maxlatitude = max_lat[a], minlongitude = min_lon[a], maxlongitude = max_lon[a], maxdepth = 30))\n",
    "    except:\n",
    "        print(volc_name[a] + \" No earthquakes found\")\n",
    "filt1 = [x for x in volcano_list if type(x) is tuple] \n",
    "anymag = [x for x in filt_volcs if len(x[1]) > 10]\n",
    "twoplus = []\n",
    "for a in range(len(filt1)):\n",
    "    for b in range(len(filt1[a][1])):\n",
    "        if filt1[a][1][b].preferred_magnitude().mag >= 2:\n",
    "            twoplus.append(filt1[a][1][b])"
   ]
  },
  {
   "cell_type": "code",
   "execution_count": 57,
   "metadata": {},
   "outputs": [
    {
     "data": {
      "text/plain": [
       "[]"
      ]
     },
     "execution_count": 57,
     "metadata": {},
     "output_type": "execute_result"
    }
   ],
   "source": [
    "twoplus"
   ]
  },
  {
   "cell_type": "code",
   "execution_count": 29,
   "metadata": {},
   "outputs": [
    {
     "data": {
      "text/plain": [
       "1.838977797"
      ]
     },
     "execution_count": 29,
     "metadata": {},
     "output_type": "execute_result"
    }
   ],
   "source": [
    "filt1[a][1][0].preferred_magnitude().mag"
   ]
  },
  {
   "cell_type": "code",
   "execution_count": null,
   "metadata": {},
   "outputs": [],
   "source": []
  }
 ],
 "metadata": {
  "kernelspec": {
   "display_name": "ngmc",
   "language": "python",
   "name": "ngmc"
  },
  "language_info": {
   "codemirror_mode": {
    "name": "ipython",
    "version": 3
   },
   "file_extension": ".py",
   "mimetype": "text/x-python",
   "name": "python",
   "nbconvert_exporter": "python",
   "pygments_lexer": "ipython3",
   "version": "3.6.7"
  }
 },
 "nbformat": 4,
 "nbformat_minor": 4
}
