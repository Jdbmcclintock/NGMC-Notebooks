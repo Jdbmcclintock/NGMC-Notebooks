{
 "cells": [
  {
   "cell_type": "markdown",
   "metadata": {},
   "source": [
    "# **Volcano Daily Report - Automatic Script**\n",
    "\n",
    "#### **A script to automatically query whether volcanoes meet the thresholds for \"swarm\" activity, and produce data products accordingly**\n",
    "\n",
    "This is a beta for the script. Feel free to run it but it has not been tested for reliability - For any questions please contact James\n"
   ]
  },
  {
   "cell_type": "code",
   "execution_count": null,
   "metadata": {},
   "outputs": [],
   "source": [
    "#import relevant modules\n",
    "import obspy\n",
    "from obspy import UTCDateTime\n",
    "from obspy.clients.fdsn import Client\n",
    "from obspy import read_inventory\n",
    "client = Client(\"http://service-nrt.geonet.org.nz\") #If you wish to test with old events change this to \"GEONET\"\n",
    "import pandas as pd\n",
    "import matplotlib.pyplot as plt\n",
    "import matplotlib.dates as md\n",
    "from matplotlib.ticker import (MultipleLocator, FormatStrFormatter, AutoMinorLocator)\n",
    "from mpl_toolkits.basemap import Basemap"
   ]
  },
  {
   "cell_type": "markdown",
   "metadata": {},
   "source": [
    "This following section contains a \"input\" function. We shouldn't need this when it's live as we can use Datetime's \"now\" function, and set the starttime to -86400 for 24h ago."
   ]
  },
  {
   "cell_type": "code",
   "execution_count": null,
   "metadata": {},
   "outputs": [],
   "source": [
    "today = str(UTCDateTime.now())[0:10] + \" 17:00:00\" # WILL NEED TO BE UPDATED WITH DAYLIGHT SAVINGS"
   ]
  },
  {
   "cell_type": "markdown",
   "metadata": {},
   "source": [
    "Volcano information section. Edit the equivalent numbers if the definitions of boxes change. Kermadec isles need s a fix I think. Obspy doesn't like negative and ositive longitude"
   ]
  },
  {
   "cell_type": "code",
   "execution_count": null,
   "metadata": {},
   "outputs": [],
   "source": [
    "#list of volcanoes\n",
    "volcano_list = [\"Auckland\", \"Kermadec Islands\", \"Mayor Island\", \"Ngauruhoe\", \"Northland\", \"Okataina\", \"Rotorua\", \"Ruapehu\", \"Taranaki\", \"Taupo\", \"Tongariro\", \"White Island\"]\n",
    "#Lat/long boundaries of said volcanic areas. Must retain current order or will not work - first values correspond to Auckland, second to Kermies etc. \n",
    "min_lat = [-37.17, -32.9, -37.53, -39.21, -36.03, -38.34, -38.20, -39.5, -39.67, -39.08, -39.21, -38]\n",
    "max_lat = [-36.57, -24.0, -37.04, -39.08, -34.89, -37.95, -37.98, -39.18,-38.93, -38.5, -39.08,-37.34]\n",
    "min_lon = [174.45, -180, 175.87, 175.56, 173.38, 176.32, 176.12, 175.32, 173.60, 175.56, 175.56, 176.69 ]\n",
    "max_lon = [175.27, -175.8, 176.64, 175.72, 174.75, 176.81, 176.42, 175.77, 174.49, 176.24, 175.72, 177.40]\n",
    "stations = [\"MKAZ\", \"GLKZ\", \"MYRZ\", \"OTVZ\", \"OUZ\", \"TARZ\", \"UTU\", \"FWVZ\", \"KHEZ\", \"RATZ\", \"TMVZ\", \"WIZ\" ] # thinking of using for SP plots - currently only using WIZ\n",
    "volc_df = pd.DataFrame({\"volcano_name\":volcano_list, \"min_lat\":min_lat, \"max_lat\":max_lat, \"min_lon\":min_lon, \"max_lon\":max_lon})"
   ]
  },
  {
   "cell_type": "markdown",
   "metadata": {},
   "source": [
    "### **Functions for graphs follow**\n",
    "\n",
    "\n",
    "Much more efficient to define these here than below. I suspect as we get better at writing functions I can make this prettier.\n",
    "\n",
    "#### Magnitude and depth versus time plots:"
   ]
  },
  {
   "cell_type": "code",
   "execution_count": null,
   "metadata": {},
   "outputs": [],
   "source": [
    "def magtime(catalog, volc): #combining mag and depth versus time in one graph - more efficient? Inputs volcano name for title etc. \n",
    "    mag, origtime, depth = ([] for i in range(3)) #creates blank lists to iterate over\n",
    "    for a in range(len(catalog)): #for loop iterating over Obspy Catalog object to pull mags, origin times and depth of earthquakes into lists\n",
    "        mag.append(catalog[a].preferred_magnitude().mag)\n",
    "        for b in range(len(catalog[a].origins)): \n",
    "            origtime.append(catalog[a].origins[b].time) \n",
    "            depth.append(catalog[a].origins[b].depth)\n",
    "    depth = [x/1000 for x in depth] #conversion to km\n",
    "    dstr = [str(d) for d in origtime] #conversion from Obspy's DateTime object to a string\n",
    "    pddates = [pd.to_datetime(d) for d in dstr] #Conversion of above string into pandas datettime\n",
    "    matdates = md.date2num(pddates) # Conversion into matplotlib dates - investigate datestr2num, might be able to skip above step? But it works!\n",
    "    fig, ax = plt.subplots(figsize=(10,10)) #defining figure size and sub plots\n",
    "    hours = md.HourLocator(interval = 2) \n",
    "    h_fmt = md.DateFormatter(\"%H:%M:%S\") #intervals for axes and format\n",
    "    def style(): #function defines styles common to both plots, called by style()\n",
    "        plt.xticks(rotation = 70)\n",
    "        fig.autofmt_xdate()\n",
    "        plt.grid()\n",
    "        ax.xaxis.set_major_locator(hours)\n",
    "        ax.xaxis.set_major_formatter(h_fmt)\n",
    "        \n",
    "    plt.subplot(211)\n",
    "    plt.plot_date(matdates, mag, c = 'r', marker = 'D', ms = 5, mew = 1, mec = \"black\") #Magnitude versus time\n",
    "    style()\n",
    "    ax.set_ylim(ymin = 0, ymax = 6)\n",
    "    ax.set_ylabel(\"Magnitude\")\n",
    "    \n",
    "    plt.subplot(212)\n",
    "    plt.plot_date(matdates, depth, c = \"b\", marker = \"D\", ms = 5, mew = 1, mec = \"black\") #Depth versus time\n",
    "    style()\n",
    "    ax.set_ylabel(\"Depth (km)\")\n",
    "    plt.gca().invert_yaxis()\n",
    "    plt.suptitle(\"Magnitude and depth versus time: \" + volc,  fontsize = 16)\n",
    "    plt.xlabel(\"Day starting \" + str(UTCDateTime.now()- 86400)[0:10] + \" UTC\") # would love to fix this to be NZT\n",
    "    return plt.show()"
   ]
  },
  {
   "cell_type": "markdown",
   "metadata": {},
   "source": [
    "\n",
    "\n",
    "#### Map of quake locations defined by magnitude:\n",
    "\n"
   ]
  },
  {
   "cell_type": "code",
   "execution_count": null,
   "metadata": {},
   "outputs": [],
   "source": [
    "def latlon(catalog, volc, tuples): \n",
    "    lat, lon, mag = ([] for i in range(3))\n",
    "    for a in range(len(catalog)): #pulls lats, longs and magnitude\n",
    "        for b in range(len(catalog[a].origins)): \n",
    "            lat.append(catalog[a].origins[b].latitude) \n",
    "            lon.append(catalog[a].origins[b].longitude)\n",
    "            mag.append(catalog[a].preferred_magnitude().mag)\n",
    "    #function to create values for circle size. Truncated to bin i.e less than 1, 1-2 etc. Then the exponential and doubling makes #larger earthquakes exponentially larger\n",
    "    #circles to help them stand out. Values can be changed easily if different proportions wanted.\n",
    "    magr = [(int(str(x)[0])+1)**2.5 * 2 for x in mag]                                             \n",
    "    for a in range(len(tuples)): #function to find which volcanic region to use as a basemap\n",
    "        coords = volc_df.loc[volc_df[\"volcano_name\"] == volc] #anymag[a][0] is not local variable - would love to get rid of it but can't see how yet.\n",
    "    fig, ax = plt.subplots(figsize = (13,13)) \n",
    "    map = Basemap(projection = \"merc\", llcrnrlon = coords[\"min_lon\"], llcrnrlat =  coords[\"min_lat\"] , urcrnrlon =  coords[\"max_lon\"], urcrnrlat =  coords[\"max_lat\"], epsg = 2193)\n",
    "    map.arcgisimage(service = \"World_Topo_Map\", xpixels = 1000) #closes to Geonet background map\n",
    "    x, y = map(lon, lat) #converts lat/long lists into mapped values\n",
    "    scatter = ax.scatter(x, y, s = magr * 200, marker = \"o\", c = \"r\", edgecolors = \"black\", linewidths = 0.6, alpha = 0.6) #can fiddle to change colors etc.\n",
    "    plt.title(\"map\")\n",
    "    return plt.show()"
   ]
  },
  {
   "cell_type": "markdown",
   "metadata": {},
   "source": [
    "\n",
    "#### SP plot - only currently configured for White Island, and currently configured for WIZ - easy enough to change to WSRZ is that's preferred.\n"
   ]
  },
  {
   "cell_type": "code",
   "execution_count": null,
   "metadata": {},
   "outputs": [],
   "source": [
    "def sp(cat):\n",
    "    data = pd.DataFrame([]) #empty dataframe\n",
    "    for a in range(len(cat)):\n",
    "        for b in range(len(cat[a].picks)):\n",
    "            if cat[a].picks[b].waveform_id.station_code == \"WIZ\": #can change to WSRZ\n",
    "                data = data.append(pd.DataFrame({\"time\": cat[a].picks[b].time, \"phase\": cat[a].picks[b].phase_hint, \"event\":cat[a].resource_id}, index=[0]), ignore_index =True)\n",
    "    spdict = [] #empty list, to have a dictionary iterated into of P and S values\n",
    "    for a in range(len(data)):\n",
    "        try:\n",
    "            if data[\"event\"][a] == data[\"event\"][a+1] and data[\"phase\"][a] == 'P': #first test is to see if two rows in the dataframe are the same events (i.e a p and and s pick),\n",
    "                                                                                   #second test to see if the first value listed is a p pick\n",
    "                spdict.append({\"sp\":data[\"time\"][a+1] - data[\"time\"][a] ,\"time\":data[\"time\"][a]}) #S-P calculated as a new dictionary value\n",
    "            elif data[\"event\"][a] == data[\"event\"][a+1] and data[\"phase\"][a] == 'S': #as above but accounts for when S ends up first in dataframe...\n",
    "                spdict.append({\"sp\":data[\"time\"][a] - data[\"time\"][a+1], \"time\":data[\"time\"][a]})\n",
    "        except:\n",
    "            pass   \n",
    "    df = pd.DataFrame(spdict) #converts list of dictionaries in above for loop into a dataframe\n",
    "    dstr = [str(d) for d in df[\"time\"]] #time into string\n",
    "    pddates = [pd.to_datetime(d) for d in dstr]\n",
    "    matdates = md.date2num(pddates) #datetime into matplotlib date value\n",
    "    hours = md.HourLocator(interval = 2)\n",
    "    h_fmt = md.DateFormatter(\"%H:%M:%S\")\n",
    "    fig, ax = plt.subplots(figsize = (15,8))\n",
    "    ax.plot_date(matdates,  df[\"sp\"], c = \"r\", marker = \"D\", ms = 5, mew = 1, mec = \"black\")\n",
    "    plt.xticks(rotation = 70)\n",
    "    ax.grid(True)\n",
    "    ax.xaxis.set_major_locator(hours)\n",
    "    ax.xaxis.set_major_formatter(h_fmt)\n",
    "    ax.set_ylabel(\"S-P Time\")\n",
    "    ax.set_xlabel(\"Day starting \" + str(UTCDateTime.now()- 86400)[0:10] + \" UTC\")\n",
    "    plt.title(\"S-P plot: White Island\")\n",
    "    return plt.show()"
   ]
  },
  {
   "cell_type": "markdown",
   "metadata": {},
   "source": [
    "#### Histogram of magnitudes:"
   ]
  },
  {
   "cell_type": "code",
   "execution_count": null,
   "metadata": {},
   "outputs": [],
   "source": [
    "def histmags(catalog, volc):\n",
    "    mag = []\n",
    "    for a in range(len(catalog)):\n",
    "        mag.append(catalog[a].preferred_magnitude().mag)\n",
    "    fig, ax = plt.subplots(figsize=(10,5))\n",
    "    ax.hist(mag, bins  = [0.5, 1, 1.5, 2, 2.5, 3, 3.5, 4, 4.5, 5, 5.5, 6], rwidth = 0.95) #bins can be changed if wanted \n",
    "    ax.set_ylabel(\"Count\")\n",
    "    ax.set_xlabel(\"Magnitude\")\n",
    "    ax.xaxis.set_minor_locator(MultipleLocator(0.5))\n",
    "    plt.title(\"Frequency count by magnitude: \" + volc + str(UTCDateTime.now()- 86400)[0:10] + \" UTC\")\n",
    "    plt.grid(True)\n",
    "    return plt.show()"
   ]
  },
  {
   "cell_type": "markdown",
   "metadata": {},
   "source": [
    "This box runs the rest of the code - running Obspy Catalog pulls to \"get_events\" for each lat/long box. Returns \"No Earthquakes Found\" if it fails to find any that fit the criteria. Might remove that in following iterations, or instead make it print out it even if only one is found."
   ]
  },
  {
   "cell_type": "code",
   "execution_count": null,
   "metadata": {},
   "outputs": [],
   "source": [
    "volc_copy, twoplus, weekly = ([] for i in range(3)) #needs better descriptive name. Empty list for appending.\n",
    "#For loop running a obspy \"get events\" function to pull every even within each of the lat/long boxes, storing them as tuples of volcano + events within a larger list\n",
    "for a in range(len(volcano_list)):\n",
    "    try:\n",
    "        volc_copy.append((volcano_list[a], client.get_events(starttime = UTCDateTime(today) - 86400, endtime = UTCDateTime(today), minlatitude = min_lat[a], maxlatitude = max_lat[a], minlongitude = min_lon[a], maxlongitude = max_lon[a], maxdepth = 30)))\n",
    "    except:\n",
    "        print(volcano_list[a] + \" No earthquakes found\") #if no quakes are found this will print instead\n",
    "print(\"\\n\") # new line for good formatting.\n",
    "for volc in range(len(volc_copy)):\n",
    "    if len(volc_copy[volc][1]) > 0:\n",
    "        print(volc_copy[volc][0] +\": \" + str(len(volc_copy[volc][1])) + \" Earthquake(s) in past 24h\")\n",
    "anymag = [x for x in volc_copy if len(x[1]) > 10] #determining if there are more than 10 events within the specified time period.\n",
    "#Below is same as the previous function but with the \"minmagnitude\" parameter set to 2, to restrict to only quakes larger than this.\n",
    "for a in range(len(volcano_list)):\n",
    "    try:\n",
    "        twoplus.append((volcano_list[a],client.get_events(starttime = UTCDateTime(today) - 86400, endtime = UTCDateTime(today), minlatitude = min_lat[a], maxlatitude = max_lat[a], minlongitude = min_lon[a], maxlongitude = max_lon[a], maxdepth = 30, minmagnitude = 2)))\n",
    "    except:\n",
    "        pass #no point pushing out another list of everything that has no quakes.\n",
    "twomag = [x for x in twoplus if len(x[1]) > 3]\n",
    "if UTCDateTime.now().isoweekday() == 7: #if UTCDate = Sunday, i.e NZ = Monday (pre noonish), checks for weekly quakes exceeding 20\n",
    "    for a in range(len(volcano_list)): # as above except weeks worth of data (604800 seconds)\n",
    "        try:\n",
    "            weekly.append((volcano_list[a],client.get_events(starttime = UTCDateTime(today) - 604800, endtime = UTCDateTime(today), minlatitude = min_lat[a], maxlatitude = max_lat[a], minlongitude = min_lon[a], maxlongitude = max_lon[a], maxdepth = 30, minmagnitude = 2)))\n",
    "        except:\n",
    "            pass    \n",
    "weeklymag = [x for x in weekly if len(x[1]) > 20] #if 20 or more quakes above magnitude 2.\n",
    "#Main outputs below - to keep them all popping out in the same place\n",
    "print(\"\\n\") # new line for good formatting.\n",
    "for x in range(len(anymag)):\n",
    "    print(\"The following volcanoes had more than 10 EQs in past 24 h: \" + anymag[x][0] + \". Count: \" + str(len(anymag[x][1]))) #delete\n",
    "for x in range(len(twomag)):\n",
    "    print(\"The following volcanoes had more than 3 M2+ EQs in past 24 h: \" + twomag[x][0] + \". Count: \" + str(len(twomag[x][1]))) #prints all M 2 + earthquakes. \n",
    "for x in range(len(weeklymag)):\n",
    "    print(\"The following volcanoes had more than 20 M2+ EQs in past week: \" + weeklymag[x][0] + \". Count: \" + str(len(weeklymag[x][1]))) #prints weekly m2+ eq count if over 20 \n",
    "print(\"\\n\")\n",
    "#Calling functions to create graphs. The for loops allow multiple graphs/maps to be created if multiple areas experience swarms on the same day.\n",
    "for a in range(len(anymag)): #running the outputs as for loops allows for case where multiple swarms occur on same day!\n",
    "    magtime(anymag[a][1], anymag[a][0])\n",
    "    histmags(anymag[a][1], anymag[a][0])\n",
    "    latlon(anymag[a][1], anymag[a][0], anymag[a])\n",
    "for a in range(len(anymag)):\n",
    "    if anymag[a][0] == \"White Island\": #sp only works for White Island at the moment.\n",
    "        sp(anymag[a][1])   \n",
    "if anymag == [] and twomag != []: #only displays these plots if they're not already being shown because of 10 quake limit being exceeded.\n",
    "    try:\n",
    "        for a in range(len(twomag)):\n",
    "            magtime(twomag[a][1], twomag[a][0])\n",
    "            histmags(twomag[a][1], twomag[a][0])\n",
    "            latlon(twomag[a][1], twomag[a][0], twomag[a])\n",
    "    except:\n",
    "        pass\n",
    "for a in range(len(weeklymag)):\n",
    "    magtime(weeklymag[a][1], weeklymag[a][0])\n",
    "    histmags(weeklymag[a][1], weeklymag[a][0])\n",
    "    latlon(weeklymag[a][1], weeklymag[a][0], weeklymag[a])"
   ]
  },
  {
   "cell_type": "code",
   "execution_count": null,
   "metadata": {},
   "outputs": [],
   "source": []
  }
 ],
 "metadata": {
  "kernelspec": {
   "display_name": "ngmc",
   "language": "python",
   "name": "ngmc"
  },
  "language_info": {
   "codemirror_mode": {
    "name": "ipython",
    "version": 3
   },
   "file_extension": ".py",
   "mimetype": "text/x-python",
   "name": "python",
   "nbconvert_exporter": "python",
   "pygments_lexer": "ipython3",
   "version": "3.6.7"
  }
 },
 "nbformat": 4,
 "nbformat_minor": 4
}
