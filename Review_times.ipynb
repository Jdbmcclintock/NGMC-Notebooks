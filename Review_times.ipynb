{
 "cells": [
  {
   "cell_type": "code",
   "execution_count": 2,
   "metadata": {},
   "outputs": [],
   "source": [
    "import requests\n",
    "from obspy import UTCDateTime\n",
    "import pandas as pd\n",
    "from scipy import stats"
   ]
  },
  {
   "cell_type": "code",
   "execution_count": 4,
   "metadata": {},
   "outputs": [],
   "source": [
    "#Earthuake pull request - defines as inside network interest and after or between specified timeframes - see wfs guide on geonet for more info. Currently configured for the month of feb\n",
    "earthquakes = requests.get(\"https://wfs.geonet.org.nz/geonet/ows?service=WFS&version=1.0.0&request=GetFeature&typeName=geonet:\"\n",
    "                           \"quake_search_v1&outputFormat=json&cql_filter=origintime>2020-02-01T00:00:00+AND+origintime<2020-03-01T00:00:00\"\n",
    "                           \"+AND+BBOX(origin_geom,163,-33,185,-50)\").json()"
   ]
  },
  {
   "cell_type": "code",
   "execution_count": 5,
   "metadata": {},
   "outputs": [
    {
     "name": "stdout",
     "output_type": "stream",
     "text": [
      "Trimmed mean for preliminary commit: 83.24987618048276\n",
      "Trimmed mean for first best commit: 344.2750712050086\n"
     ]
    }
   ],
   "source": [
    "#empty lists to append to\n",
    "history_json, quakeid, prelimjson, bestjson = [], [], [], []\n",
    "#generate list of quake ids\n",
    "for index, value in enumerate(earthquakes['features']):\n",
    "    quakeid.append(value['properties']['publicid'])\n",
    "#generate \"history\" for each quake by running an api query within a for loop\n",
    "for id in quakeid:\n",
    "    history_json.append(requests.get(\"https://api.geonet.org.nz/quake/history/\"  + id).json())\n",
    "#for loop to split in to prelim and best quality solutions. \n",
    "for a in range(len(history_json)):\n",
    "    for ind, value in enumerate(history_json[a]['features']):\n",
    "        #below tests whether value is prelim or not and if so generates a dictionary of id, modification time and origin time\n",
    "        #using ObsPy's UTCDateTime function as it's nice and tidy and good for subtracting times, automatically parses.\n",
    "        if value['properties']['quality'] == 'preliminary':\n",
    "            prelimjson.append({\"id\":value['properties']['publicID'], \"modtime\":UTCDateTime(value['properties']['modificationTime']),\n",
    "                             \"origtime\":UTCDateTime(value['properties']['time'])})\n",
    "        #as above but for \"best\" solutions    \n",
    "        if value['properties']['quality'] == 'best':\n",
    "            bestjson.append({\"id\":value['properties']['publicID'], \"modtime\":UTCDateTime(value['properties']['modificationTime']),\n",
    "                             \"origtime\":UTCDateTime(value['properties']['time'])})         \n",
    "#calculation of first prelim review time\n",
    "df = pd.DataFrame(prelimjson) #converts dictionary into dataframe    \n",
    "ids = df.groupby('id') #groups by quakeid, as there are duplicates for each value\n",
    "firstprelim = ids.last() #takes the last value of each group which is the first in terms of time\n",
    "firstprelim['reviewtime'] = firstprelim['modtime'] - firstprelim['origtime'] #calculates review time\n",
    "#print outpt below, currently a trimmed mean at 10% either side \n",
    "print(\"Trimmed mean for preliminary commit: \" + str(stats.trim_mean(firstprelim['reviewtime'], 0.1)))\n",
    "\n",
    "#as above but with best instead of prelim\n",
    "df2 = pd.DataFrame(bestjson)\n",
    "ids2 = df2.groupby('id')\n",
    "firstbest = ids2.last()\n",
    "firstbest['reviewtime'] = firstbest['modtime'] - firstbest['origtime']\n",
    "print(\"Trimmed mean for first best commit: \" + str(stats.trim_mean(firstbest['reviewtime'], 0.1)))"
   ]
  },
  {
   "cell_type": "code",
   "execution_count": null,
   "metadata": {},
   "outputs": [],
   "source": []
  }
 ],
 "metadata": {
  "kernelspec": {
   "display_name": "ngmc",
   "language": "python",
   "name": "ngmc"
  },
  "language_info": {
   "codemirror_mode": {
    "name": "ipython",
    "version": 3
   },
   "file_extension": ".py",
   "mimetype": "text/x-python",
   "name": "python",
   "nbconvert_exporter": "python",
   "pygments_lexer": "ipython3",
   "version": "3.6.7"
  }
 },
 "nbformat": 4,
 "nbformat_minor": 4
}
