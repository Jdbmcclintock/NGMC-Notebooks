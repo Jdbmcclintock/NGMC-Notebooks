{
 "cells": [
  {
   "cell_type": "markdown",
   "metadata": {},
   "source": [
    "# Monthly Retrospective script\n",
    "The following script will produce a list of statistics that might be relevant for the Monthly retrospective. **This will only capture earthquakes > 7 days ago. As such I reccommend waiting until the 8th onwards to run it**.\n",
    "\n",
    "**To run this script properly, first please restart the kernal to wipe the cache, else it will crash. You can do this by clicking the restart button in the top left, or by right clicking anywhere on the script.**\n",
    "\n",
    "Once this is done, please adjust the values in the \"Times\" section below as per instructions, then run all cells like you would a volcano script. \n",
    "\n",
    "This is a work in progress and would appreciate any feedback as to what other information, graphs etc would be useful. "
   ]
  },
  {
   "cell_type": "code",
   "execution_count": 1,
   "metadata": {},
   "outputs": [],
   "source": [
    "from obspy import UTCDateTime\n",
    "from obspy.clients.fdsn import Client\n",
    "from obspy import read_inventory\n",
    "import obspy\n",
    "client = Client(\"GEONET\") #yolo\n",
    "from obspy import UTCDateTime"
   ]
  },
  {
   "cell_type": "markdown",
   "metadata": {},
   "source": [
    "## Times\n",
    "Unfortunately the kernel appears to crash if I try to bring a whole month's worth of data in at once. As such I've split it into a bunch of little parts then added them together. \n",
    "\n",
    "This means the user must change the last day of the previous month in the \"startdate\" variable (be sure to check for 30 vs 31 days), and the month you're doing the restrospective for in the for loop (where it says times.append). Then, change the number in the \"range\" function to be the number of days in that particular month **minus 1** (so, 29 for June, 30 for august).\n",
    "\n",
    "This corresponds to midnight on the first of the month, to midnight on the first of the next month in NZT, as Obspy runs using UTC time. \n",
    "\n",
    "For example, for August you'd have the following:\n",
    "\n",
    "![alt tex](Image3.PNG \"Example\")\n",
    "\n",
    "I've also currently got it set to daylight savings time - outside of daylight savings the \"11:00:00\" part should be \"12:00:00\". \n",
    "\n",
    "This makes the code very inefficient but for high activity months like June the kernel would simply crash every time so it's the only way I can make it work at the moment. If it still doesn't work, try downloading it, importing it into Spyder and running it that way, though that will require Obspy to be installed on that laptop - see instructions in Geohazard Analysys/other projects/obspy guide and examples. "
   ]
  },
  {
   "cell_type": "code",
   "execution_count": 2,
   "metadata": {},
   "outputs": [],
   "source": [
    "startdate = \"2019-06-30 11:00:00\"\n",
    "times = []\n",
    "for a in range(30):\n",
    "    times.append(\"2019-07-\"+str(a+1)+\" 11:00:00\")"
   ]
  },
  {
   "cell_type": "markdown",
   "metadata": {},
   "source": [
    "The following section is the code that will automatically run with the above input. The output is found at the bottom."
   ]
  },
  {
   "cell_type": "code",
   "execution_count": 3,
   "metadata": {},
   "outputs": [],
   "source": [
    "cat = obspy.core.event.Catalog()\n",
    "for a in range(len(times)):\n",
    "    cat+=client.get_events(starttime = times[a], endtime = UTCDateTime(times[a]) + 86400)\n",
    "cat+=client.get_events(starttime = startdate, endtime = UTCDateTime(startdate) + 86400)"
   ]
  },
  {
   "cell_type": "code",
   "execution_count": 4,
   "metadata": {},
   "outputs": [],
   "source": [
    "LessOne = 0\n",
    "OneTwo = 0\n",
    "TwoThree = 0\n",
    "ThreeFour = 0\n",
    "FourFive = 0\n",
    "FiveSix = 0\n",
    "SixPlus = 0"
   ]
  },
  {
   "cell_type": "code",
   "execution_count": 5,
   "metadata": {},
   "outputs": [
    {
     "name": "stdout",
     "output_type": "stream",
     "text": [
      "<1: 61 \n",
      " 1-2: 830 \n",
      " 2-3: 754 \n",
      " 3-4: 120 \n",
      " 4-5: 105 \n",
      " 5-6: 58 \n",
      " 6+: 8\n",
      "local 1804 \n",
      " kermadec 64 \n",
      " tele 68\n",
      "Maximum magnitude 7.145370493 smi:nz.org.geonet/2019p507127\n",
      "Minimum magnitude 0.1224906838 smi:nz.org.geonet/2019p559041\n"
     ]
    }
   ],
   "source": [
    "for a in range(len(cat)):\n",
    "    for b in range(len(cat[a].magnitudes)):\n",
    "        if cat[a].preferred_magnitude_id == cat[a].magnitudes[b].resource_id and  cat[a].magnitudes[b].mag <= 1:\n",
    "            LessOne = LessOne + 1\n",
    "        if cat[a].preferred_magnitude_id == cat[a].magnitudes[b].resource_id and  cat[a].magnitudes[b].mag >= 1 and cat[a].magnitudes[b].mag <= 2:\n",
    "            OneTwo = OneTwo + 1\n",
    "        if cat[a].preferred_magnitude_id == cat[a].magnitudes[b].resource_id and  cat[a].magnitudes[b].mag >= 2 and cat[a].magnitudes[b].mag <= 3:\n",
    "            TwoThree = TwoThree + 1\n",
    "        if cat[a].preferred_magnitude_id == cat[a].magnitudes[b].resource_id and  cat[a].magnitudes[b].mag >= 3 and cat[a].magnitudes[b].mag <= 4:\n",
    "            ThreeFour = ThreeFour + 1\n",
    "        if cat[a].preferred_magnitude_id == cat[a].magnitudes[b].resource_id and  cat[a].magnitudes[b].mag >= 4 and cat[a].magnitudes[b].mag <= 5:\n",
    "            FourFive = FourFive + 1\n",
    "        if cat[a].preferred_magnitude_id == cat[a].magnitudes[b].resource_id and  cat[a].magnitudes[b].mag >= 5 and cat[a].magnitudes[b].mag <= 6:\n",
    "            FiveSix = FiveSix + 1    \n",
    "        if cat[a].preferred_magnitude_id == cat[a].magnitudes[b].resource_id and  cat[a].magnitudes[b].mag >= 6:\n",
    "            SixPlus = SixPlus + 1\n",
    "print(\"<1:\", LessOne,\"\\n\", \"1-2:\", OneTwo,\"\\n\",\"2-3:\", TwoThree,\"\\n\", \"3-4:\", ThreeFour,\"\\n\", \"4-5:\", FourFive,\"\\n\", \"5-6:\", FiveSix,\"\\n\", \"6+:\", SixPlus)\n",
    "local = 0\n",
    "kermadec = 0\n",
    "tele = 0\n",
    "for a in range(len(cat)):\n",
    "    for b in range(len(cat[a].origins)):\n",
    "        if cat[a].origins[b].latitude <= -33 and cat[a].origins[b].latitude >= -50 and cat[a].origins[b].longitude >= 163 and cat[a].origins[b].longitude <=180 or cat[a].origins[b].latitude <= -33 and cat[a].origins[b].latitude >= -50 and cat[a].origins[b].longitude <=-175 and cat[a].origins[b].longitude >= -180 or cat[a].origins[b].latitude <= -32 and cat[a].origins[b].latitude >= -33 and cat[a].origins[b].longitude <=177 and cat[a].origins[b].longitude >= 163:\n",
    "            local = local + 1\n",
    "        if cat[a].origins[b].latitude <= -25 and cat[a].origins[b].latitude >= -33 and cat[a].origins[b].longitude >= 177 and cat[a].origins[b].longitude <=180 or cat[a].origins[b].latitude <= -25 and cat[a].origins[b].latitude >= -33 and cat[a].origins[b].longitude <=-169 and cat[a].origins[b].longitude >= -180:\n",
    "            kermadec = kermadec + 1       \n",
    "tele = len(cat) - local - kermadec\n",
    "print(\"local\",local,\"\\n\",\"kermadec\",kermadec,\"\\n\",\"tele\",tele)\n",
    "MaxMag = list()\n",
    "for a in range(len(cat)):\n",
    "    for b in range(len(cat[a].magnitudes)):\n",
    "        if cat[a].preferred_magnitude_id == cat[a].magnitudes[b].resource_id:\n",
    "            MaxMag.append(cat[a].magnitudes[b].mag)\n",
    "x = max(MaxMag)\n",
    "for a in range(len(cat)):\n",
    "    for b in range(len(cat[a].magnitudes)):\n",
    "        if cat[a].preferred_magnitude_id == cat[a].magnitudes[b].resource_id:\n",
    "            if x == cat[a].magnitudes[b].mag:\n",
    "                print(\"Maximum magnitude\", max(MaxMag), cat[a].resource_id)\n",
    "MinMag = list()\n",
    "for a in range(len(cat)):\n",
    "    for b in range(len(cat[a].magnitudes)):\n",
    "        if cat[a].preferred_magnitude_id == cat[a].magnitudes[b].resource_id:\n",
    "            MinMag.append(cat[a].magnitudes[b].mag)\n",
    "x = min(MinMag)\n",
    "for a in range(len(cat)):\n",
    "    for b in range(len(cat[a].magnitudes)):\n",
    "        if cat[a].preferred_magnitude_id == cat[a].magnitudes[b].resource_id:\n",
    "            if x == cat[a].magnitudes[b].mag:\n",
    "                print(\"Minimum magnitude\", min(MinMag), cat[a].resource_id)"
   ]
  }
 ],
 "metadata": {
  "kernelspec": {
   "display_name": "ngmc",
   "language": "python",
   "name": "ngmc"
  },
  "language_info": {
   "codemirror_mode": {
    "name": "ipython",
    "version": 3
   },
   "file_extension": ".py",
   "mimetype": "text/x-python",
   "name": "python",
   "nbconvert_exporter": "python",
   "pygments_lexer": "ipython3",
   "version": "3.6.7"
  }
 },
 "nbformat": 4,
 "nbformat_minor": 4
}
