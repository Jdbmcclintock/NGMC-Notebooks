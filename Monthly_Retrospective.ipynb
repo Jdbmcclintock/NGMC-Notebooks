{
 "cells": [
  {
   "cell_type": "markdown",
   "metadata": {},
   "source": [
    "# Monthly Retrospective script\n",
    "The following script will produce a list of statistics that might be relevant for the Monthly retrospective. **This new version uses the Geonet API and can therefore be run on the first!**\n",
    "\n",
    "All you need to do is change the dates to the correct month in the box below and select \"run all cells\".\n",
    "\n",
    "This is a work in progress and would appreciate any feedback as to what other information, graphs etc would be useful. "
   ]
  },
  {
   "cell_type": "code",
   "execution_count": null,
   "metadata": {},
   "outputs": [],
   "source": [
    "import requests\n",
    "import pandas as pd"
   ]
  },
  {
   "cell_type": "markdown",
   "metadata": {},
   "source": [
    "## Times\n",
    "Change the date here. Because it is in UTC time, start it on the last day of the previous month and end it on the last of the current month. \n",
    "During daylight savings time (Summer), midnight NZT is at at 11:00:00, otherwise set it to 12:00:00"
   ]
  },
  {
   "cell_type": "code",
   "execution_count": null,
   "metadata": {},
   "outputs": [],
   "source": [
    "starttime = \"2019-12-31T11:00:00\"\n",
    "enddate = \"2020-01-31T11:00:00\""
   ]
  },
  {
   "cell_type": "markdown",
   "metadata": {},
   "source": [
    "The following section is the code that will automatically run with the above input. The output is found at the bottom."
   ]
  },
  {
   "cell_type": "code",
   "execution_count": null,
   "metadata": {},
   "outputs": [],
   "source": [
    "jase = requests.get(\"http://wfs.geonet.org.nz/geonet/ows?service=WFS&version=1.0.0&request=GetFeature&typeName=geonet:quake_search_v1&outputFormat=json&cql_filter=origintime>=\" \n",
    "                    + starttime + \"+AND+origintime<=\" +enddate).json()"
   ]
  },
  {
   "cell_type": "code",
   "execution_count": null,
   "metadata": {},
   "outputs": [],
   "source": [
    "\n",
    "lat, lon, mag, quakeid = [[] for x in range(4)]\n",
    "for a in range(len(jase['features'])):\n",
    "    lon.append(jase['features'][a]['geometry']['coordinates'][0])\n",
    "    lat.append(jase['features'][a]['geometry']['coordinates'][1])\n",
    "    mag.append(jase['features'][a]['properties']['magnitude'])\n",
    "    quakeid.append(jase['features'][a]['properties']['publicid'])\n",
    "df = pd.DataFrame({\"latitude\":lat,\"longitude\":lon,\"magnitude\":mag,\"quake_id\":quakeid})\n",
    "magsum = pd.DataFrame({})\n",
    "magsum['magnitudes'] = [\"0-1\", \"1-2\",\"2-3\",\"3-4\",\"4-5\",\"5-6\",\"6-7\",\"7-8\",\"8+\"]\n",
    "magsum['count'] = (df['magnitude'].value_counts(bins = [0,1,2,3,4,5,6,7,8,9]))\n",
    "magsum = magsum.sort_index()\n",
    "magsum = magsum.set_index('magnitudes')\n",
    "print(magsum)\n",
    "kermadec = df[(df['latitude'] <=-25) & (df['latitude']>=-33) & (df['longitude'] >= 177) & (df['longitude'] <=180) | \n",
    "             (df['latitude'] <=-25) & (df['latitude']>=-33) & (df['longitude'] >= -180) & (df['longitude'] <=-169)]\n",
    "local = df[(df['latitude'] <=-33) & (df['latitude'] >= -50) & (df['longitude'] >= 163) & (df['longitude'] <=180) | \n",
    "          (df['latitude'] <=-33) & (df['latitude'] >= -50) & (df['longitude'] >= -180) & (df['longitude'] <=-175)|\n",
    "          (df['latitude'] <=-32) & (df['latitude'] >= -33) & (df['longitude'] >= 163) & (df['longitude'] <=177)]\n",
    "print(\"\\nTotal quakes: \", len(df), \"\\nLocal\", len(local), \"\\nKermadec: \", len(kermadec), \"\\nTeleseismics: \", len(df) - len(kermadec) - len(local),\n",
    "     \"\\nMaxmimum magnitude\", df['magnitude'].max(), \" ID: \", df.iloc[df['magnitude'].idxmax()]['quake_id'],\n",
    "      \"\\nMinimum magnitude\", df['magnitude'].min(), \"ID: \", df.iloc[df['magnitude'].idxmin()]['quake_id'])\n",
    "\n"
   ]
  }
 ],
 "metadata": {
  "kernelspec": {
   "display_name": "ngmc",
   "language": "python",
   "name": "ngmc"
  },
  "language_info": {
   "codemirror_mode": {
    "name": "ipython",
    "version": 3
   },
   "file_extension": ".py",
   "mimetype": "text/x-python",
   "name": "python",
   "nbconvert_exporter": "python",
   "pygments_lexer": "ipython3",
   "version": "3.6.7"
  }
 },
 "nbformat": 4,
 "nbformat_minor": 4
}
