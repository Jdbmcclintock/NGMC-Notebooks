{
 "cells": [
  {
   "cell_type": "markdown",
   "metadata": {},
   "source": [
    "# Waveform animation script\n",
    "\n",
    "*Currently a \"beta\" - just something thrown together as a request for the volc team* \n",
    "\n",
    "Takes inputs in the last cell. Have a .py script too which takes user inputs when run in a terminal.\n",
    "\n",
    "Things to note: \n",
    "\n",
    "- Currently configured with the Geonet client rather than nrt - change that field if you want to view waveforms < 7 days old\n",
    "\n",
    "- At the moment it outputs a figure which is 1280x240 pixels. This can be easily changed with the \"figsize\" field in the supplots call, but bear in mind you will need to change the position of the annotation too if you want that to stay in a tidy place. \n",
    "\n",
    "- Figure will be stored locally on your PC - Jupyter cannot display the mp4 file so will just show the last frame. To check where it's being saved use the pwd commnd.\n",
    "\n",
    "- As well as obspy, matplotlib and numpy you must also have ffmpeg installed to run this."
   ]
  },
  {
   "cell_type": "code",
   "execution_count": null,
   "metadata": {},
   "outputs": [],
   "source": [
    "#importing relevant modules\n",
    "from obspy import UTCDateTime\n",
    "from obspy.clients.fdsn import Client\n",
    "import matplotlib.pyplot as plt\n",
    "import matplotlib.animation as animation\n",
    "import numpy as np\n",
    "from matplotlib.animation import FFMpegWriter\n",
    "client = Client(\"GEONET") # change to \"http://service-nrt.geonet.org.nz\" if looking at recent waveforms"
   ]
  },
  {
   "cell_type": "markdown",
   "metadata": {},
   "source": [
    "### Animation function\n",
    "\n",
    "Remove the hash before \"plt.plot...\" towards the end of this cell to create a light shaded trace, which is then \"overwritten\" in live time by a darker version of the trace"
   ]
  },
  {
   "cell_type": "code",
   "execution_count": null,
   "metadata": {},
   "outputs": [],
   "source": [
    "def waveani(sta, cha, starttime, endtime, filename):\n",
    "    if cha == \"HDF\": #avoids using raw HDF channel\n",
    "        num = 1\n",
    "    else:\n",
    "        num = 0\n",
    "    st = client.get_waveforms(network=\"NZ\", station=sta, channel=cha,\n",
    "                              location=\"*\", starttime=starttime,\n",
    "                              endtime=endtime)\n",
    "    # further slice since obspy automatically pulls more waveforms than you ask for\n",
    "    st_precise = st[num].slice(starttime=UTCDateTime(starttime),\n",
    "                               endtime=UTCDateTime(endtime)) \n",
    "    y = st_precise[0::4] #quarter the framerate to save processing time\n",
    "    x = np.arange(len(y))\n",
    "    fig, ax = plt.subplots(figsize=(12.80, 2.4), dpi = 100)\n",
    "    p = list(range(len(y)))\n",
    "    stime = [str(UTCDateTime(starttime) + i/25) for i in p]\n",
    "    line, = ax.plot([], [], lw=.5, color = \"black\")\n",
    "    annotation = ax.annotate(str(stime[0]), xy=(975, 215),\n",
    "                             xycoords='figure pixels', fontsize=10)\n",
    "    annotation.set_animated(True)\n",
    "    #to try make a symmetrical plot\n",
    "    if y.max() - y[0] > y[0] - y.min():\n",
    "        scale = y.max() - y[0] \n",
    "    else:\n",
    "        scale = y[0] - y.min() \n",
    "    ax.axis((x.min(), x.max(), y[0] - scale, y[0] + scale))\n",
    "    #remove xaxis\n",
    "    ax.axes.get_xaxis().set_visible(False)\n",
    "    fig.suptitle((sta + \" \" + cha + \" Plot\"), y=0.99, fontsize=9.5)\n",
    "    fig.tight_layout()\n",
    "\n",
    "    #creating blank plot to draw on\n",
    "    def init():\n",
    "        line.set_data([], [])\n",
    "        return line, annotation\n",
    "\n",
    "    #creating animation \n",
    "    def animate(i):\n",
    "        line.set_data(x[:i], y[:i])\n",
    "        annotation.set_text(stime[i])\n",
    "    ani = animation.FuncAnimation(fig, animate, init_func=init, frames=len(y),\n",
    "                                  interval=25, blit=False)\n",
    "    \n",
    "    #Remove hash below to plot the trace in full immediately, then have \n",
    "    #a darker trace plot in real time over it\n",
    "    \n",
    "    # plt.plot(x, y, alpha = 0.5, color = \"lightsteelblue\")\n",
    "    \n",
    "    #writing and saving. Can change .mp4 to desired file format.\n",
    "\n",
    "    writer = FFMpegWriter(fps=25, bitrate=1800)\n",
    "    ani.save((filename + \".mp4\"), writer=writer)"
   ]
  },
  {
   "cell_type": "markdown",
   "metadata": {},
   "source": [
    "### Function call - edit values below\n",
    "\n",
    "Station and codes must be capitalized, and dates should be in yyyy-mm-dd hh:mm:ss format. There is no need to specify .mp4 in the file name as that is already defined in the function.\n"
   ]
  },
  {
   "cell_type": "code",
   "execution_count": null,
   "metadata": {
    "scrolled": false
   },
   "outputs": [],
   "source": [
    "waveani(\"WIZ\", \"HHZ\", \"2019-12-25 23:06:28\", \"2019-12-25 23:07:28\", \"WIZ_EX\")"
   ]
  }
 ],
 "metadata": {
  "kernelspec": {
   "display_name": "Python 3",
   "language": "python",
   "name": "python3"
  },
  "language_info": {
   "codemirror_mode": {
    "name": "ipython",
    "version": 3
   },
   "file_extension": ".py",
   "mimetype": "text/x-python",
   "name": "python",
   "nbconvert_exporter": "python",
   "pygments_lexer": "ipython3",
   "version": "3.7.3"
  }
 },
 "nbformat": 4,
 "nbformat_minor": 2
}
